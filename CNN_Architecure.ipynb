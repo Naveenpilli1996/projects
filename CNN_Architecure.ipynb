{
  "nbformat": 4,
  "nbformat_minor": 0,
  "metadata": {
    "colab": {
      "provenance": [],
      "authorship_tag": "ABX9TyPbkEDaYd1+malPvH2TaGgD",
      "include_colab_link": true
    },
    "kernelspec": {
      "name": "python3",
      "display_name": "Python 3"
    },
    "language_info": {
      "name": "python"
    },
    "gpuClass": "standard"
  },
  "cells": [
    {
      "cell_type": "markdown",
      "metadata": {
        "id": "view-in-github",
        "colab_type": "text"
      },
      "source": [
        "<a href=\"https://colab.research.google.com/github/Naveenpilli1996/projects/blob/main/CNN_Architecure.ipynb\" target=\"_parent\"><img src=\"https://colab.research.google.com/assets/colab-badge.svg\" alt=\"Open In Colab\"/></a>"
      ]
    },
    {
      "cell_type": "code",
      "source": [
        "!unzip Pred.zip"
      ],
      "metadata": {
        "id": "CGmcxm8OKzJA"
      },
      "execution_count": null,
      "outputs": []
    },
    {
      "cell_type": "code",
      "source": [
        "from tensorflow.keras.preprocessing.image import ImageDataGenerator\n",
        "from keras.models import Sequential\n",
        "from keras.layers import Conv2D,MaxPooling2D,Dense,Flatten,BatchNormalization,Dropout"
      ],
      "metadata": {
        "id": "AmaaXCj2kqPG"
      },
      "execution_count": 4,
      "outputs": []
    },
    {
      "cell_type": "code",
      "source": [
        "\n",
        "train_path='/content/seg_train'\n",
        "test_path='/content/seg_test'"
      ],
      "metadata": {
        "id": "sWSXmCYRk3rX"
      },
      "execution_count": 5,
      "outputs": []
    },
    {
      "cell_type": "code",
      "source": [
        "train_datagen =ImageDataGenerator(rescale=1./255, validation_split=0.25)\n"
      ],
      "metadata": {
        "id": "wZlxXhmklPMn"
      },
      "execution_count": 6,
      "outputs": []
    },
    {
      "cell_type": "code",
      "source": [
        "train_generator = train_datagen.flow_from_directory(\n",
        "        train_path,  # Source directory\n",
        "        target_size=(150, 150),  # Resizes images\n",
        "        batch_size=15,\n",
        "        class_mode='categorical',subset = 'training')"
      ],
      "metadata": {
        "colab": {
          "base_uri": "https://localhost:8080/"
        },
        "id": "9JFpOMmFlTJ2",
        "outputId": "8071552b-6e24-45dd-f8e5-19033652128a"
      },
      "execution_count": 7,
      "outputs": [
        {
          "output_type": "stream",
          "name": "stdout",
          "text": [
            "Found 10528 images belonging to 6 classes.\n"
          ]
        }
      ]
    },
    {
      "cell_type": "code",
      "source": [
        "validation_generator = train_datagen.flow_from_directory(\n",
        "    test_path,\n",
        "    target_size=(150, 150),\n",
        "    batch_size=15,\n",
        "    class_mode='categorical',\n",
        "    subset='validation') # set as validation data"
      ],
      "metadata": {
        "colab": {
          "base_uri": "https://localhost:8080/"
        },
        "id": "C1c-qldHldLe",
        "outputId": "d4c17d29-902b-4bc8-880b-db452da40eec"
      },
      "execution_count": 8,
      "outputs": [
        {
          "output_type": "stream",
          "name": "stdout",
          "text": [
            "Found 748 images belonging to 6 classes.\n"
          ]
        }
      ]
    },
    {
      "cell_type": "code",
      "source": [
        "def Classifier():\n",
        "    model=Sequential()\n",
        "    model.add(Conv2D(32,(3,3),activation='relu',input_shape=(150,150,3)))\n",
        "    model.add(BatchNormalization())\n",
        "    model.add(MaxPooling2D(pool_size=(2,2)))\n",
        "    model.add(Dropout(0.25))\n",
        "\n",
        "    model.add(Conv2D(64,(3,3),activation='relu'))\n",
        "    model.add(BatchNormalization())\n",
        "    model.add(MaxPooling2D(pool_size=(2,2)))\n",
        "    model.add(Dropout(0.25))\n",
        "\n",
        "    model.add(Conv2D(128,(3,3),activation='relu'))\n",
        "    model.add(BatchNormalization())\n",
        "    model.add(MaxPooling2D(pool_size=(2,2)))\n",
        "    model.add(Dropout(0.25))\n",
        "\n",
        "    model.add(Flatten())\n",
        "\n",
        "    model.add(Dense(512,activation='relu'))\n",
        "    model.add(BatchNormalization())\n",
        "    # model.add(Dropout(0.5))\n",
        "    model.add(Dense(6,activation='softmax'))\n",
        "    model.compile(loss='categorical_crossentropy',\n",
        "    optimizer='Adam',metrics=['accuracy'])\n",
        "\n",
        "    return model\n",
        "\n",
        "Classifier=Classifier()"
      ],
      "metadata": {
        "id": "e1JL1i8VliAI"
      },
      "execution_count": 48,
      "outputs": []
    },
    {
      "cell_type": "code",
      "source": [
        "Classifier.fit(train_generator,\n",
        "          validation_data=validation_generator,\n",
        "          steps_per_epoch=train_generator.samples/train_generator.batch_size,\n",
        "          validation_steps=validation_generator.samples/validation_generator.batch_size,\n",
        "          epochs=15)"
      ],
      "metadata": {
        "id": "VeanjNJymDxo"
      },
      "execution_count": null,
      "outputs": []
    },
    {
      "cell_type": "code",
      "source": [
        "Classifier.save(\"model.h5\")"
      ],
      "metadata": {
        "id": "360QFFdVtNio"
      },
      "execution_count": 15,
      "outputs": []
    },
    {
      "cell_type": "code",
      "source": [
        "from tensorflow import keras\n",
        "model = keras.models.load_model('/content/model.h5')"
      ],
      "metadata": {
        "id": "OVMrUAOetfvY"
      },
      "execution_count": 16,
      "outputs": []
    },
    {
      "cell_type": "code",
      "source": [
        "import cv2\n",
        "import tensorflow as tf\n",
        "import numpy as np\n",
        "\n",
        "\n",
        "# img=cv2.imread('/content/seg_test/forest/20056.jpg')\n",
        "test_image = tf.keras.preprocessing.image.load_img('/content/seg_pred/10100.jpg',target_size = (150, 150)) # IT IS LOADING STORED IMAGE FROM CAM_IMAGES FOLDER\n",
        "test_image = tf.keras.preprocessing.image.img_to_array(test_image)  # IT IS CONVERTING IMAGE TO ARRAY FROMATE\n",
        "test_image = np.expand_dims(test_image, axis = 0)  # IT IS EXPANDING DIMENTIONS OF IMAGE LIKE (1,224,224,3)\n",
        "\n",
        "Predictions=model.predict(test_image)\n",
        "Max_val=np.argmax(Predictions) # IT GIVES THE MAX_VALUE FROM PREDICTIONS\n",
        "print(Max_val)"
      ],
      "metadata": {
        "colab": {
          "base_uri": "https://localhost:8080/"
        },
        "id": "NHeBfeGWtxLD",
        "outputId": "bfec4749-816a-4e91-8920-7250c136f529"
      },
      "execution_count": 46,
      "outputs": [
        {
          "output_type": "stream",
          "name": "stdout",
          "text": [
            "1/1 [==============================] - 0s 53ms/step\n",
            "3\n"
          ]
        }
      ]
    },
    {
      "cell_type": "code",
      "source": [
        "train_generator.class_indices"
      ],
      "metadata": {
        "colab": {
          "base_uri": "https://localhost:8080/"
        },
        "id": "wa2B5hD0x5ct",
        "outputId": "ca97213c-a28d-4bbf-a994-0fbf6fb61ec6"
      },
      "execution_count": 23,
      "outputs": [
        {
          "output_type": "execute_result",
          "data": {
            "text/plain": [
              "{'buildings': 0,\n",
              " 'forest': 1,\n",
              " 'glacier': 2,\n",
              " 'mountain': 3,\n",
              " 'sea': 4,\n",
              " 'street': 5}"
            ]
          },
          "metadata": {},
          "execution_count": 23
        }
      ]
    },
    {
      "cell_type": "code",
      "source": [
        "from google.colab.patches import cv2_imshow\n",
        "img=cv2.imread('/content/seg_train/glacier/10011.jpg')\n",
        "cv2_imshow(img)"
      ],
      "metadata": {
        "colab": {
          "base_uri": "https://localhost:8080/",
          "height": 167
        },
        "id": "vW_AZI3ZyFow",
        "outputId": "6310ef99-b3f4-4a70-b9cd-0241946f6bb7"
      },
      "execution_count": 47,
      "outputs": [
        {
          "output_type": "display_data",
          "data": {
            "text/plain": [
              "<PIL.Image.Image image mode=RGB size=150x150 at 0x7F90EE5C6BE0>"
            ],
            "image/png": "[encoded data removed]"
          },
          "metadata": {}
        }
      ]
    }
  ]
}